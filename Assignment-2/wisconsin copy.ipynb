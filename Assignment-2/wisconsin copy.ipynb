{
 "cells": [
  {
   "cell_type": "code",
   "execution_count": null,
   "id": "265a1d8b",
   "metadata": {},
   "outputs": [],
   "source": [
    "from ucimlrepo import fetch_ucirepo \n",
    "  \n",
    "# fetch dataset \n",
    "breast_cancer_wisconsin_diagnostic = fetch_ucirepo(id=17) \n",
    "  \n",
    "# data (as pandas dataframes) \n",
    "X = breast_cancer_wisconsin_diagnostic.data.features \n",
    "y = breast_cancer_wisconsin_diagnostic.data.targets \n",
    "  \n",
    "# metadata \n",
    "print(breast_cancer_wisconsin_diagnostic.metadata) \n",
    "  \n",
    "# variable information \n",
    "print(breast_cancer_wisconsin_diagnostic.variables) \n"
   ]
  },
  {
   "cell_type": "code",
   "execution_count": null,
   "id": "b53af477",
   "metadata": {},
   "outputs": [],
   "source": [
    "#Converting the dataset to a CSV file\n",
    "import pandas as pd\n",
    "breast_cancer_wisconsin_diagnostic_df = pd.DataFrame(X)\n",
    "breast_cancer_wisconsin_diagnostic_df['target'] = y\n",
    "breast_cancer_wisconsin_diagnostic_df.to_csv('breast_cancer_wisconsin_diagnostic.csv', index=False)\n",
    "# Preprocessing required : saga’ fast convergence is only guaranteed on features with approximately the same scale. You can preprocess the data with a scaler from sklearn.preprocessing"
   ]
  },
  {
   "cell_type": "code",
   "execution_count": null,
   "id": "66d61297",
   "metadata": {},
   "outputs": [],
   "source": [
    "df = pd.read_csv('breast_cancer_wisconsin_diagnostic.csv')\n",
    "print(df.head())"
   ]
  },
  {
   "cell_type": "code",
   "execution_count": null,
   "id": "0ab3244e",
   "metadata": {},
   "outputs": [],
   "source": [
    "df.info()"
   ]
  },
  {
   "cell_type": "code",
   "execution_count": null,
   "id": "4d7371d3",
   "metadata": {},
   "outputs": [],
   "source": [
    "df.describe() "
   ]
  },
  {
   "cell_type": "code",
   "execution_count": null,
   "id": "8d05db96",
   "metadata": {},
   "outputs": [],
   "source": [
    "df.isnull().sum()   "
   ]
  },
  {
   "cell_type": "markdown",
   "id": "5c6556b3",
   "metadata": {},
   "source": [
    "Implement Logistic Regression using scikit-learn package.\n",
    "- a. Use ‘newton-cg’, ‘lbfgs’, ‘liblinear’ solver for the regression model.\n",
    "- b. For each solver use ‘l1’, ‘l2’, ‘none’ penalty to train the model."
   ]
  },
  {
   "cell_type": "code",
   "execution_count": null,
   "id": "2acd9e98",
   "metadata": {},
   "outputs": [],
   "source": [
    "from sklearn.linear_model import LogisticRegression\n",
    "model1 =  LogisticRegression(penalty='l2',solver='newton-cg', max_iter=1000)\n",
    "model2 =  LogisticRegression(penalty=None,solver='newton-cg', max_iter=1000)\n",
    "model3 =  LogisticRegression(penalty='l2',solver='lbfgs', max_iter=5000)\n",
    "model4 =  LogisticRegression(penalty=None,solver='lbfgs', max_iter=10000)\n",
    "model5 =  LogisticRegression(penalty='l1',solver='liblinear', max_iter=1000)\n",
    "model6 =  LogisticRegression(penalty='l2',solver='liblinear', max_iter=1000)"
   ]
  },
  {
   "cell_type": "markdown",
   "id": "ac928190",
   "metadata": {},
   "source": [
    "Split the dataset in to 80:10:10 percent (train : validation : test) (use seed = 5 for\n",
    "splitting)."
   ]
  },
  {
   "cell_type": "code",
   "execution_count": null,
   "id": "ebee664b",
   "metadata": {},
   "outputs": [],
   "source": [
    "from sklearn.model_selection import train_test_split\n",
    "X_train, X_temp, y_train, y_temp = train_test_split(X, y, test_size=0.2, random_state=5)\n",
    "X_val, X_test, y_val, y_test = train_test_split(X_temp, y_temp, test_size=0.5, random_state=5)"
   ]
  },
  {
   "cell_type": "markdown",
   "id": "30bb83c3",
   "metadata": {},
   "source": [
    "Train the model initially with 80% training data and create a table for the\n",
    "coefficients of all the features."
   ]
  },
  {
   "cell_type": "code",
   "execution_count": null,
   "id": "f3fe318f",
   "metadata": {},
   "outputs": [],
   "source": [
    "# Train the model initially with 80% training data and create a table for the\n",
    "# coefficients of all the features.\n",
    "\n",
    "# for model in [model1, model2, model3, model4, model5, model6, model7]:\n",
    "#     model.fit(X_train, y_train)\n",
    "#     coefficients = pd.DataFrame(model.coef_.flatten(), index=X.columns, columns=['Coefficient'])\n",
    "#     coefficients = coefficients.sort_values(by='Coefficient', ascending=False)\n",
    "#     print(f\"Model: {model}\\n{coefficients}\\n\")\n",
    "\n",
    "model1.fit(X_train, y_train)\n",
    "coefficients = pd.DataFrame(model1.coef_.flatten(), index=X.columns, columns=['Coefficient'])\n",
    "coefficients = coefficients.sort_values(by='Coefficient', ascending=False)\n",
    "print(f\"Model: {model1}\\n{coefficients}\\n\")\n",
    "\n",
    "# Fine-tune the model1 with the remaining validation partition of the dataset\n",
    "# (consisting of 10% of the original dataset) and create a table for the updated\n",
    "# coefficients of all the features.\n",
    "\n",
    "model1.fit(X_val, y_val)\n",
    "coefficients = pd.DataFrame(model1.coef_.flatten(), index=X.columns, columns=['Coefficient'])\n",
    "coefficients = coefficients.sort_values(by='Coefficient', ascending=False)\n",
    "print(f\"Model: {model1}\\n{coefficients}\\n\")\n",
    "\n",
    "\n"
   ]
  },
  {
   "cell_type": "code",
   "execution_count": null,
   "id": "4c8cec35",
   "metadata": {},
   "outputs": [],
   "source": [
    "model2.fit(X_train, y_train)\n",
    "coefficients = pd.DataFrame(model2.coef_.flatten(), index=X.columns, columns=['Coefficient'])\n",
    "coefficients = coefficients.sort_values(by='Coefficient', ascending=False)\n",
    "print(f\"Model: {model2}\\n{coefficients}\\n\")\n",
    "\n",
    "# Fine-tune the model2 with the remaining validation partition of the dataset\n",
    "# (consisting of 10% of the original dataset) and create a table for the updated\n",
    "# coefficients of all the features.\n",
    "\n",
    "model2.fit(X_val, y_val)\n",
    "coefficients = pd.DataFrame(model2.coef_.flatten(), index=X.columns, columns=['Coefficient'])\n",
    "coefficients = coefficients.sort_values(by='Coefficient', ascending=False)\n",
    "print(f\"Model: {model2}\\n{coefficients}\\n\")"
   ]
  },
  {
   "cell_type": "code",
   "execution_count": null,
   "id": "e9c821c8",
   "metadata": {},
   "outputs": [],
   "source": [
    "model3.fit(X_train, y_train)\n",
    "coefficients = pd.DataFrame(model3.coef_.flatten(), index=X.columns, columns=['Coefficient'])\n",
    "coefficients = coefficients.sort_values(by='Coefficient', ascending=False)\n",
    "print(f\"Model: {model3}\\n{coefficients}\\n\")"
   ]
  },
  {
   "cell_type": "code",
   "execution_count": null,
   "id": "2664c4ce",
   "metadata": {},
   "outputs": [],
   "source": [
    "model4.fit(X_train, y_train)\n",
    "coefficients = pd.DataFrame(model4.coef_.flatten(), index=X.columns, columns=['Coefficient'])\n",
    "coefficients = coefficients.sort_values(by='Coefficient', ascending=False)\n",
    "print(f\"Model: {model4}\\n{coefficients}\\n\")"
   ]
  },
  {
   "cell_type": "code",
   "execution_count": null,
   "id": "c1bcc1f5",
   "metadata": {},
   "outputs": [],
   "source": [
    "model5.fit(X_train, y_train)\n",
    "coefficients = pd.DataFrame(model5.coef_.flatten(), index=X.columns, columns=['Coefficient'])\n",
    "coefficients = coefficients.sort_values(by='Coefficient', ascending=False)\n",
    "print(f\"Model: {model5}\\n{coefficients}\\n\")"
   ]
  },
  {
   "cell_type": "code",
   "execution_count": null,
   "id": "1414fd2d",
   "metadata": {},
   "outputs": [],
   "source": [
    "model6.fit(X_train, y_train)\n",
    "coefficients = pd.DataFrame(model6.coef_.flatten(), index=X.columns, columns=['Coefficient'])\n",
    "coefficients = coefficients.sort_values(by='Coefficient', ascending=False)\n",
    "print(f\"Model: {model6}\\n{coefficients}\\n\")"
   ]
  },
  {
   "cell_type": "code",
   "execution_count": null,
   "id": "a22000f3",
   "metadata": {},
   "outputs": [],
   "source": []
  }
 ],
 "metadata": {
  "kernelspec": {
   "display_name": ".venv (3.12.3)",
   "language": "python",
   "name": "python3"
  },
  "language_info": {
   "codemirror_mode": {
    "name": "ipython",
    "version": 3
   },
   "file_extension": ".py",
   "mimetype": "text/x-python",
   "name": "python",
   "nbconvert_exporter": "python",
   "pygments_lexer": "ipython3",
   "version": "3.12.3"
  }
 },
 "nbformat": 4,
 "nbformat_minor": 5
}
